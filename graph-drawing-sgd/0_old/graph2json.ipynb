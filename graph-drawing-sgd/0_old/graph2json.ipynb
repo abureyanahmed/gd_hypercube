{
 "cells": [
  {
   "cell_type": "code",
   "execution_count": 8,
   "metadata": {},
   "outputs": [],
   "source": [
    "import json\n",
    "import networkx as nx\n",
    "import torch\n",
    "\n",
    "device = 'cpu'"
   ]
  },
  {
   "cell_type": "code",
   "execution_count": 9,
   "metadata": {},
   "outputs": [],
   "source": [
    "def dict2tensor(d, fill=None):\n",
    "    n = len(d.keys())\n",
    "    k2i = {k:i for i,k in enumerate(sorted(d.keys()))}\n",
    "    res = torch.zeros(len(d.keys()), len(d.keys()), device=device)\n",
    "    for src_node, dst_nodes in d.items():\n",
    "        for dst_node, distance in dst_nodes.items():\n",
    "            if fill is not None:\n",
    "                res[k2i[src_node],k2i[dst_node]] = fill\n",
    "            else:\n",
    "                res[k2i[src_node],k2i[dst_node]] = distance\n",
    "    return res, k2i"
   ]
  },
  {
   "cell_type": "code",
   "execution_count": 11,
   "metadata": {},
   "outputs": [
    {
     "name": "stdout",
     "output_type": "stream",
     "text": [
      "generating graph...\n",
      "5 nodes\n",
      "calculating all pairs shortest path...\n",
      "\n",
      "\n",
      "\n",
      "CPU times: user 2.17 ms, sys: 0 ns, total: 2.17 ms\n",
      "Wall time: 1.33 ms\n"
     ]
    }
   ],
   "source": [
    "%%time\n",
    "\n",
    "print('generating graph...')\n",
    "# G = nx.path_graph(10)\n",
    "# G = nx.cycle_graph(10)\n",
    "# G = nx.balanced_tree(2,3)\n",
    "# G = nx.connected_watts_strogatz_graph(10,5,0.5)\n",
    "# G = file2graph('./facebook/0.edges')\n",
    "# G = file2graph('./facebook/107.edges')\n",
    "# G = file2graph('./facebook/414.edges')\n",
    "initPositions = None\n",
    "\n",
    "##cube\n",
    "G = nx.Graph()\n",
    "G.add_nodes_from(range(8))\n",
    "G.add_edges_from([\n",
    "    (0,1),(1,2),(2,3),(3,0),\n",
    "    (4,5),(5,6),(6,7),(7,4),\n",
    "    (0,4),(1,5),(2,6),(3,7)])\n",
    "initPositions = None\n",
    "\n",
    "# # cross\n",
    "# G = nx.Graph()\n",
    "# G.add_nodes_from([0,1,2,3])\n",
    "# G.add_edges_from([(0,1),(2,3)])\n",
    "# initPositions = [[0,0],[7,1],[7,0],[0,1]]\n",
    "\n",
    "#dodecahedron\n",
    "# https://www.researchgate.net/figure/The-dodecahedron-graph_fig5_275536736\n",
    "# G = nx.Graph()\n",
    "# G.add_nodes_from(range(1,21,1))\n",
    "# G.add_edges_from([\n",
    "#     (1,2),(2,3),(3,4),(4,5),(5,1),\n",
    "#     (6,7),(7,8),(8,11),(11,13),(13,14),(14,15),(15,17),(17,16),(16,18),(18,6),\n",
    "#     (9,10),(10,12),(12,20),(20,19),(19,9),\n",
    "#     (1,16),(5,6),(4,8),(3,13),(2,15),\n",
    "#     (12,14),(17,20),(18,19),(7,9),(10,11),\n",
    "# ])\n",
    "# initPositions = None\n",
    "\n",
    "\n",
    "# K5\n",
    "G = nx.complete_graph(5)\n",
    "\n",
    "\n",
    "print(len(G.nodes), 'nodes')\n",
    "print('calculating all pairs shortest path...')\n",
    "D, k2i = dict2tensor(dict(nx.all_pairs_shortest_path_length(G)))\n",
    "# D += torch.eye(D.shape[0])\n",
    "W = 1/(D**2+1)\n",
    "\n",
    "Adj,_ = dict2tensor(dict(G.adjacency()), fill=1)\n",
    "print('\\n\\n')\n",
    "\n",
    "neighborSizes = Adj.sum(dim=1).int()\n",
    "nodeCount = Adj.shape[0]\n",
    "eye = torch.eye(Adj.shape[0], device=device)\n",
    "truth = Adj + eye\n"
   ]
  },
  {
   "cell_type": "code",
   "execution_count": 12,
   "metadata": {},
   "outputs": [],
   "source": [
    "def graph2json(G):\n",
    "    return {\n",
    "        'nodes': [\n",
    "            {\n",
    "                'index':i, \n",
    "                'id': n\n",
    "            } \n",
    "            for i, n in enumerate(G.nodes)\n",
    "        ],\n",
    "        'edges': [\n",
    "            {\n",
    "                'source': e1, \n",
    "                'target': e2\n",
    "            } \n",
    "            for e1,e2 in G.edges\n",
    "        ],\n",
    "        'weight': W.numpy().tolist(),\n",
    "        'graphDistance': D.numpy().tolist(),\n",
    "        'initPositions': initPositions\n",
    "    }\n",
    "\n",
    "with open('graph.json', 'w') as f:\n",
    "    json.dump(graph2json(G), f, indent=2)"
   ]
  },
  {
   "cell_type": "code",
   "execution_count": null,
   "metadata": {},
   "outputs": [],
   "source": []
  }
 ],
 "metadata": {
  "kernelspec": {
   "display_name": "Python 3",
   "language": "python",
   "name": "python3"
  },
  "language_info": {
   "codemirror_mode": {
    "name": "ipython",
    "version": 3
   },
   "file_extension": ".py",
   "mimetype": "text/x-python",
   "name": "python",
   "nbconvert_exporter": "python",
   "pygments_lexer": "ipython3",
   "version": "3.6.6"
  }
 },
 "nbformat": 4,
 "nbformat_minor": 2
}
